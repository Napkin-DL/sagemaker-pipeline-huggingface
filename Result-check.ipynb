{
 "cells": [
  {
   "cell_type": "code",
   "execution_count": 2,
   "id": "b467bae1-eefa-426d-b7d8-f71db5fff8ac",
   "metadata": {},
   "outputs": [],
   "source": [
    "import boto3, json"
   ]
  },
  {
   "cell_type": "code",
   "execution_count": 3,
   "id": "d1c45786-a27b-47ea-9586-49794770dd7e",
   "metadata": {},
   "outputs": [
    {
     "name": "stdout",
     "output_type": "stream",
     "text": [
      "b'[{\"label\":\"LABEL_1\",\"score\":0.8733327388763428}]'\n",
      "CPU times: user 44.4 ms, sys: 11.2 ms, total: 55.6 ms\n",
      "Wall time: 183 ms\n"
     ]
    }
   ],
   "source": [
    "%%time\n",
    "\n",
    "endpoint_name='mlops-test-20221009-staging'\n",
    "runtime = boto3.client(service_name=\"sagemaker-runtime\")\n",
    "\n",
    "sentiment_input = {\"inputs\": \"I love using SageMaker endpoints to serve my real-time models.\"}\n",
    "\n",
    "response = runtime.invoke_endpoint(\n",
    "    EndpointName=endpoint_name,\n",
    "    Body=json.dumps(sentiment_input),\n",
    "    ContentType=\"application/json\",\n",
    ")\n",
    "\n",
    "print(response[\"Body\"].read())"
   ]
  },
  {
   "cell_type": "code",
   "execution_count": null,
   "id": "c97d0614-d3f5-474c-9d06-91287edcd8c9",
   "metadata": {},
   "outputs": [],
   "source": []
  }
 ],
 "metadata": {
  "instance_type": "ml.t3.medium",
  "kernelspec": {
   "display_name": "Python 3 (Data Science)",
   "language": "python",
   "name": "python3__SAGEMAKER_INTERNAL__arn:aws:sagemaker:us-west-2:236514542706:image/datascience-1.0"
  },
  "language_info": {
   "codemirror_mode": {
    "name": "ipython",
    "version": 3
   },
   "file_extension": ".py",
   "mimetype": "text/x-python",
   "name": "python",
   "nbconvert_exporter": "python",
   "pygments_lexer": "ipython3",
   "version": "3.7.10"
  }
 },
 "nbformat": 4,
 "nbformat_minor": 5
}
